{
 "cells": [
  {
   "cell_type": "markdown",
   "id": "726861b5-1a68-43e1-b083-311d0e64dc82",
   "metadata": {},
   "source": [
    "# Data Preprocessing"
   ]
  },
  {
   "cell_type": "code",
   "execution_count": 1,
   "id": "e330fa07-feb6-4ff4-82bf-5ce3bd0fce06",
   "metadata": {},
   "outputs": [],
   "source": [
    "from itertools import chain\n",
    "\n",
    "import anndata as ad\n",
    "import itertools\n",
    "import networkx as nx\n",
    "import pandas as pd\n",
    "import scanpy as sc\n",
    "import superglue\n",
    "import seaborn as sns\n",
    "from matplotlib import rcParams"
   ]
  },
  {
   "cell_type": "code",
   "execution_count": 3,
   "id": "3b348127-3444-42ce-abc5-b2f545a1e130",
   "metadata": {},
   "outputs": [],
   "source": [
    "superglue.plot.set_publication_params()\n",
    "rcParams[\"figure.figsize\"] = (4, 4)"
   ]
  },
  {
   "cell_type": "code",
   "execution_count": 4,
   "id": "d3fd9b16-3105-42b2-a87f-2f35fb96d81c",
   "metadata": {},
   "outputs": [],
   "source": [
    "data_path = \"/gpfs/gibbs/pi/zhao/tl688/\""
   ]
  },
  {
   "cell_type": "code",
   "execution_count": 5,
   "id": "e9fc5653-3220-4d17-a0ef-3607b2f6e2d5",
   "metadata": {},
   "outputs": [],
   "source": [
    "import scanpy as sc\n",
    "adata_atac = sc.read_h5ad(f'{data_path}/10x-Multiome-Pbmc10k-ATAC.h5ad')\n",
    "# adata_atac.X = adata_atac.X.toarray()\n",
    "adata_atac.obs['label'] = list(adata_atac.obs['cell_type'])\n",
    "adata_gex  = sc.read_h5ad(f'{data_path}/10x-Multiome-Pbmc10k-RNA.h5ad')\n",
    "# adata_gex.X = adata_gex.X.toarray()\n",
    "adata_gex.obs['label'] = list(adata_gex.obs['cell_type'])\n"
   ]
  },
  {
   "cell_type": "code",
   "execution_count": 6,
   "id": "0b6f8f11-d1ab-4a67-9152-0763564d1d7a",
   "metadata": {},
   "outputs": [],
   "source": [
    "adata_gex.var_names_make_unique()"
   ]
  },
  {
   "cell_type": "code",
   "execution_count": 7,
   "id": "9f01f190-4313-4a89-b267-d940c597e7b1",
   "metadata": {},
   "outputs": [],
   "source": [
    "# ###add psuedo label for evaluation\n",
    "# np.random.seed(2023)\n",
    "# adata_gex.obs['batch'] = np.random.choice(['0', '1'], len(adata_gex), replace=True, p=[0.7, 0.3])\n",
    "# adata_atac.obs['batch'] = list(adata_gex.obs['batch'])"
   ]
  },
  {
   "cell_type": "code",
   "execution_count": 8,
   "id": "81e75937-ed27-4a38-adff-b4a2e68d7737",
   "metadata": {},
   "outputs": [],
   "source": [
    "rna = adata_gex\n",
    "atac = adata_atac"
   ]
  },
  {
   "cell_type": "code",
   "execution_count": 9,
   "id": "94bd8943-1251-4480-9d75-642e65339c61",
   "metadata": {},
   "outputs": [],
   "source": [
    "rna.layers[\"counts\"] = rna.X.copy()\n",
    "sc.pp.highly_variable_genes(rna, n_top_genes=2000, flavor=\"seurat_v3\")\n",
    "rna = rna[:,rna.var['highly_variable']]"
   ]
  },
  {
   "cell_type": "code",
   "execution_count": 10,
   "id": "d9741b85-d54b-4af3-aa74-b6b8378de13d",
   "metadata": {},
   "outputs": [
    {
     "name": "stderr",
     "output_type": "stream",
     "text": [
      "/gpfs/gibbs/project/zhao/tl688/conda_envs/scglue/lib/python3.9/site-packages/scanpy/preprocessing/_normalization.py:169: UserWarning: Received a view of an AnnData. Making a copy.\n",
      "  view_to_actual(adata)\n"
     ]
    }
   ],
   "source": [
    "sc.pp.normalize_total(rna)\n",
    "sc.pp.log1p(rna)\n",
    "sc.pp.scale(rna)\n",
    "sc.tl.pca(rna)"
   ]
  },
  {
   "cell_type": "code",
   "execution_count": 12,
   "id": "290bfca7-44ec-42bf-95e1-d3f089dd9d20",
   "metadata": {},
   "outputs": [],
   "source": [
    "superglue.data.lsi(atac, n_components=100, n_iter=15)"
   ]
  },
  {
   "cell_type": "code",
   "execution_count": 13,
   "id": "3c5cbccd-21c8-437a-815b-2f01a13b8e23",
   "metadata": {},
   "outputs": [],
   "source": [
    "## if your rna data do not have chrom annotation, you may need to anntoate them.\n",
    "# scglue.data.get_gene_annotation(\n",
    "#     rna, gtf=\"/gpfs/gibbs/pi/zhao/tl688/UnitedNet/gencode.v45.chr_patch_hapl_scaff.annotation.gtf.gz\",\n",
    "#     gtf_by=\"gene_name\"\n",
    "# )\n",
    "# rna.var.loc[:, [\"chrom\", \"chromStart\", \"chromEnd\"]].head()"
   ]
  },
  {
   "cell_type": "code",
   "execution_count": 14,
   "id": "8db16fc8-9f05-4910-9018-71d806b968b2",
   "metadata": {},
   "outputs": [
    {
     "name": "stderr",
     "output_type": "stream",
     "text": [
      "/tmp/ipykernel_1062132/1597144629.py:2: ImplicitModificationWarning: Trying to modify attribute `.var` of view, initializing view as actual.\n",
      "  rna.var[\"chromStart\"] = rna.var[\"chromStart\"].astype('int')\n"
     ]
    }
   ],
   "source": [
    "rna = rna[:,list(rna.var.dropna(subset=['chrom']).index)]\n",
    "rna.var[\"chromStart\"] = rna.var[\"chromStart\"].astype('int')\n",
    "rna.var[\"chromEnd\"] = rna.var[\"chromStart\"].astype('int')"
   ]
  },
  {
   "cell_type": "code",
   "execution_count": 15,
   "id": "2a889fdd-60f3-47c8-a99c-679a90385051",
   "metadata": {},
   "outputs": [
    {
     "data": {
      "text/html": [
       "<div>\n",
       "<style scoped>\n",
       "    .dataframe tbody tr th:only-of-type {\n",
       "        vertical-align: middle;\n",
       "    }\n",
       "\n",
       "    .dataframe tbody tr th {\n",
       "        vertical-align: top;\n",
       "    }\n",
       "\n",
       "    .dataframe thead th {\n",
       "        text-align: right;\n",
       "    }\n",
       "</style>\n",
       "<table border=\"1\" class=\"dataframe\">\n",
       "  <thead>\n",
       "    <tr style=\"text-align: right;\">\n",
       "      <th></th>\n",
       "      <th>feature_types</th>\n",
       "      <th>genome</th>\n",
       "      <th>chrom</th>\n",
       "      <th>chromStart</th>\n",
       "      <th>chromEnd</th>\n",
       "      <th>n_counts</th>\n",
       "    </tr>\n",
       "    <tr>\n",
       "      <th>peaks</th>\n",
       "      <th></th>\n",
       "      <th></th>\n",
       "      <th></th>\n",
       "      <th></th>\n",
       "      <th></th>\n",
       "      <th></th>\n",
       "    </tr>\n",
       "  </thead>\n",
       "  <tbody>\n",
       "    <tr>\n",
       "      <th>chr1:816881-817647</th>\n",
       "      <td>Peaks</td>\n",
       "      <td>GRCh38</td>\n",
       "      <td>chr1</td>\n",
       "      <td>816881</td>\n",
       "      <td>817647</td>\n",
       "      <td>1025.0</td>\n",
       "    </tr>\n",
       "    <tr>\n",
       "      <th>chr1:819912-823500</th>\n",
       "      <td>Peaks</td>\n",
       "      <td>GRCh38</td>\n",
       "      <td>chr1</td>\n",
       "      <td>819912</td>\n",
       "      <td>823500</td>\n",
       "      <td>1384.0</td>\n",
       "    </tr>\n",
       "    <tr>\n",
       "      <th>chr1:825827-825889</th>\n",
       "      <td>Peaks</td>\n",
       "      <td>GRCh38</td>\n",
       "      <td>chr1</td>\n",
       "      <td>825827</td>\n",
       "      <td>825889</td>\n",
       "      <td>20.0</td>\n",
       "    </tr>\n",
       "    <tr>\n",
       "      <th>chr1:826612-827979</th>\n",
       "      <td>Peaks</td>\n",
       "      <td>GRCh38</td>\n",
       "      <td>chr1</td>\n",
       "      <td>826612</td>\n",
       "      <td>827979</td>\n",
       "      <td>4555.0</td>\n",
       "    </tr>\n",
       "    <tr>\n",
       "      <th>chr1:841243-843059</th>\n",
       "      <td>Peaks</td>\n",
       "      <td>GRCh38</td>\n",
       "      <td>chr1</td>\n",
       "      <td>841243</td>\n",
       "      <td>843059</td>\n",
       "      <td>555.0</td>\n",
       "    </tr>\n",
       "  </tbody>\n",
       "</table>\n",
       "</div>"
      ],
      "text/plain": [
       "                   feature_types  genome chrom  chromStart  chromEnd  n_counts\n",
       "peaks                                                                         \n",
       "chr1:816881-817647         Peaks  GRCh38  chr1      816881    817647    1025.0\n",
       "chr1:819912-823500         Peaks  GRCh38  chr1      819912    823500    1384.0\n",
       "chr1:825827-825889         Peaks  GRCh38  chr1      825827    825889      20.0\n",
       "chr1:826612-827979         Peaks  GRCh38  chr1      826612    827979    4555.0\n",
       "chr1:841243-843059         Peaks  GRCh38  chr1      841243    843059     555.0"
      ]
     },
     "execution_count": 15,
     "metadata": {},
     "output_type": "execute_result"
    }
   ],
   "source": [
    "split = atac.var_names.str.split(r\"[:-]\")\n",
    "atac.var[\"chrom\"] = split.map(lambda x: x[0])\n",
    "atac.var[\"chromStart\"] = split.map(lambda x: x[1]).astype(int)\n",
    "atac.var[\"chromEnd\"] = split.map(lambda x: x[2]).astype(int)\n",
    "atac.var.head()"
   ]
  },
  {
   "cell_type": "code",
   "execution_count": 16,
   "id": "df2318da-8f84-4fda-b5ee-b10d674dfb53",
   "metadata": {},
   "outputs": [
    {
     "data": {
      "application/vnd.jupyter.widget-view+json": {
       "model_id": "f63677db57e34cb6bf2fa371a9353f8e",
       "version_major": 2,
       "version_minor": 0
      },
      "text/plain": [
       "window_graph:   0%|          | 0/2000 [00:00<?, ?it/s]"
      ]
     },
     "metadata": {},
     "output_type": "display_data"
    },
    {
     "data": {
      "text/plain": [
       "<networkx.classes.multidigraph.MultiDiGraph at 0x14aaaa35f0a0>"
      ]
     },
     "execution_count": 16,
     "metadata": {},
     "output_type": "execute_result"
    }
   ],
   "source": [
    "guidance = superglue.genomics.rna_anchored_guidance_graph(rna, atac)\n",
    "guidance"
   ]
  },
  {
   "cell_type": "code",
   "execution_count": 17,
   "id": "912b1978-bcc9-4a3a-b731-508959bb83a2",
   "metadata": {},
   "outputs": [
    {
     "name": "stdout",
     "output_type": "stream",
     "text": [
      "[INFO] check_graph: Checking variable coverage...\n",
      "[INFO] check_graph: Checking edge attributes...\n",
      "[INFO] check_graph: Checking self-loops...\n",
      "[INFO] check_graph: Checking graph symmetry...\n",
      "[INFO] check_graph: All checks passed!\n"
     ]
    }
   ],
   "source": [
    "superglue.graph.check_graph(guidance, [rna, atac])"
   ]
  },
  {
   "cell_type": "code",
   "execution_count": 18,
   "id": "490b85ae-402e-4e6a-9836-ae2a5e2dd2ef",
   "metadata": {},
   "outputs": [],
   "source": [
    "rna.write(\"10xmultiomerna-pp.h5ad\", compression=\"gzip\")\n",
    "atac.write(\"10xmultiomeatac-pp.h5ad\", compression=\"gzip\")\n",
    "nx.write_graphml(guidance, \"10multiomeguidance.graphml.gz\")"
   ]
  },
  {
   "cell_type": "code",
   "execution_count": null,
   "id": "fd9186fb-96ae-4e1c-937a-401cf8eb04ce",
   "metadata": {},
   "outputs": [],
   "source": []
  },
  {
   "cell_type": "markdown",
   "id": "cdcb57eb-e872-4f94-8efa-21e475a997b7",
   "metadata": {},
   "source": [
    "# Train the model"
   ]
  },
  {
   "cell_type": "code",
   "execution_count": 33,
   "id": "a45fc616-2688-44a0-9e8b-b8f8a7cecb09",
   "metadata": {},
   "outputs": [],
   "source": [
    "from itertools import chain\n",
    "\n",
    "import anndata as ad\n",
    "import itertools\n",
    "import networkx as nx\n",
    "import pandas as pd\n",
    "import scanpy as sc\n",
    "import superglue\n",
    "import seaborn as sns\n",
    "import numpy as np\n",
    "from matplotlib import rcParams"
   ]
  },
  {
   "cell_type": "code",
   "execution_count": 21,
   "id": "5b6d01eb-c898-4c87-ad53-d7507d9e3718",
   "metadata": {},
   "outputs": [],
   "source": [
    "rna = ad.read_h5ad(\"10xmultiomerna-pp.h5ad\")\n",
    "atac = ad.read_h5ad(\"10xmultiomeatac-pp.h5ad\")\n",
    "guidance = nx.read_graphml(\"10multiomeguidance.graphml.gz\")"
   ]
  },
  {
   "cell_type": "code",
   "execution_count": null,
   "id": "3a7094e1-e30f-403c-b04f-cd80f365ba34",
   "metadata": {},
   "outputs": [],
   "source": []
  },
  {
   "cell_type": "code",
   "execution_count": 23,
   "id": "b28bd483-330f-4b2d-96a1-88b976f8f40c",
   "metadata": {},
   "outputs": [
    {
     "data": {
      "text/plain": [
       "AnnData object with n_obs × n_vars = 9631 × 107194\n",
       "    obs: 'domain', 'protocol', 'dataset', 'orig.ident', 'nCount_RNA', 'nFeature_RNA', 'percent.mt', 'nCount_ATAC', 'nFeature_ATAC', 'nCount_SCT', 'nFeature_SCT', 'SCT.weight', 'ATAC.weight', 'wsnn_res.0.8', 'seurat_clusters', 'sub.cluster', 'cell_type', 'label'\n",
       "    var: 'feature_types', 'genome', 'chrom', 'chromStart', 'chromEnd', 'n_counts', 'highly_variable'\n",
       "    obsm: 'X_lsi'"
      ]
     },
     "execution_count": 23,
     "metadata": {},
     "output_type": "execute_result"
    }
   ],
   "source": [
    "atac"
   ]
  },
  {
   "cell_type": "code",
   "execution_count": 24,
   "id": "b2250d17-542a-4baa-97f4-23c0776b6cc8",
   "metadata": {},
   "outputs": [],
   "source": [
    "atac.layers['counts'] = atac.X.astype(int)"
   ]
  },
  {
   "cell_type": "code",
   "execution_count": 25,
   "id": "2d5c85f0-4787-4c26-a34d-cbe8ee7e4850",
   "metadata": {},
   "outputs": [],
   "source": [
    "rna.layers['counts'] = rna.layers['counts'].astype(int)\n",
    "atac.layers['counts'] = atac.layers['counts'].astype(int)"
   ]
  },
  {
   "cell_type": "code",
   "execution_count": 30,
   "id": "36c95980-f39d-47d2-9b0a-602f29a5a3e8",
   "metadata": {},
   "outputs": [],
   "source": [
    "superglue.models.configure_dataset(\n",
    "    rna, \"NB\", use_highly_variable=True,\n",
    "    use_layer=\"counts\", use_rep=\"X_pca\", use_cell_type='cell_type',  use_obs_names=True\n",
    ")\n",
    "superglue.models.configure_dataset(\n",
    "    atac, \"NB\", use_highly_variable=True,\n",
    "    use_rep=\"X_lsi\", use_cell_type='cell_type', use_obs_names=True\n",
    ")"
   ]
  },
  {
   "cell_type": "code",
   "execution_count": 31,
   "id": "11eb5003-0120-4802-9399-b88be805cfda",
   "metadata": {},
   "outputs": [],
   "source": [
    "guidance_hvf = guidance.subgraph(chain(\n",
    "    rna.var.query(\"highly_variable\").index,\n",
    "    atac.var.query(\"highly_variable\").index\n",
    ")).copy()"
   ]
  },
  {
   "cell_type": "code",
   "execution_count": 32,
   "id": "b9e8dcac-6e42-43d7-afde-c168e614de7d",
   "metadata": {
    "scrolled": true
   },
   "outputs": [
    {
     "name": "stdout",
     "output_type": "stream",
     "text": [
      "[INFO] fit_SCGLUE: Pretraining SCGLUE model...\n",
      "[INFO] autodevice: Using GPU 0 as computation device.\n",
      "[INFO] check_graph: Checking variable coverage...\n",
      "[INFO] check_graph: Checking edge attributes...\n",
      "[INFO] check_graph: Checking self-loops...\n",
      "[INFO] check_graph: Checking graph symmetry...\n",
      "[INFO] PairedSCGLUECLASSModel: Setting `graph_batch_size` = 1752\n",
      "[INFO] PairedSCGLUECLASSModel: Setting `max_epochs` = 355\n",
      "[INFO] PairedSCGLUECLASSModel: Setting `patience` = 30\n",
      "[INFO] PairedSCGLUECLASSModel: Setting `reduce_lr_patience` = 15\n",
      "[INFO] PairedSCGLUECLASSTrainer: Using training directory: \"glue_output/pretrain\"\n"
     ]
    },
    {
     "name": "stderr",
     "output_type": "stream",
     "text": [
      "/gpfs/gibbs/project/zhao/tl688/conda_envs/scglue/lib/python3.9/site-packages/torch/optim/lr_scheduler.py:28: UserWarning: The verbose parameter is deprecated. Please use get_last_lr() to access the learning rate.\n",
      "  warnings.warn(\"The verbose parameter is deprecated. Please use get_last_lr() \"\n"
     ]
    },
    {
     "name": "stdout",
     "output_type": "stream",
     "text": [
      "[INFO] PairedSCGLUECLASSTrainer: [Epoch 10] train={'g_nll': 0.53, 'g_kl': 0.056, 'g_elbo': 0.585, 'x_rna_nll': 0.31, 'x_rna_kl': 0.018, 'x_rna_elbo': 0.327, 'x_atac_nll': 0.719, 'x_atac_kl': 0.026, 'x_atac_elbo': 0.745, 'dsc_loss': 0.613, 'vae_loss': 81631.677, 'gen_loss': 81631.647, 'sup_loss': 8.044, 'joint_cross_loss': 1.027, 'real_cross_loss': 1.047, 'cos_loss': 0.281}, val={'g_nll': 0.532, 'g_kl': 0.057, 'g_elbo': 0.589, 'x_rna_nll': 0.313, 'x_rna_kl': 0.016, 'x_rna_elbo': 0.33, 'x_atac_nll': 0.723, 'x_atac_kl': 0.026, 'x_atac_elbo': 0.748, 'dsc_loss': 0.578, 'vae_loss': 79.586, 'gen_loss': 79.557, 'sup_loss': 7.849, 'joint_cross_loss': 1.036, 'real_cross_loss': 1.054, 'cos_loss': 0.27}, 2.1s elapsed\n",
      "[INFO] LRScheduler: Learning rate reduction: step 1\n",
      "[INFO] PairedSCGLUECLASSTrainer: [Epoch 20] train={'g_nll': 0.5, 'g_kl': 0.063, 'g_elbo': 0.562, 'x_rna_nll': 0.298, 'x_rna_kl': 0.016, 'x_rna_elbo': 0.314, 'x_atac_nll': 0.704, 'x_atac_kl': 0.025, 'x_atac_elbo': 0.729, 'dsc_loss': 0.622, 'vae_loss': 986977397.641, 'gen_loss': 986977397.612, 'sup_loss': 7.94, 'joint_cross_loss': 1.003, 'real_cross_loss': 1.02, 'cos_loss': 0.288}, val={'g_nll': 0.504, 'g_kl': 0.063, 'g_elbo': 0.567, 'x_rna_nll': 0.303, 'x_rna_kl': 0.016, 'x_rna_elbo': 0.319, 'x_atac_nll': 0.711, 'x_atac_kl': 0.024, 'x_atac_elbo': 0.735, 'dsc_loss': 0.619, 'vae_loss': 87.576, 'gen_loss': 87.545, 'sup_loss': 7.816, 'joint_cross_loss': 1.015, 'real_cross_loss': 1.029, 'cos_loss': 0.274}, 2.2s elapsed\n",
      "[INFO] PairedSCGLUECLASSTrainer: [Epoch 30] train={'g_nll': 0.498, 'g_kl': 0.063, 'g_elbo': 0.561, 'x_rna_nll': 0.297, 'x_rna_kl': 0.016, 'x_rna_elbo': 0.313, 'x_atac_nll': 0.703, 'x_atac_kl': 0.025, 'x_atac_elbo': 0.728, 'dsc_loss': 0.624, 'vae_loss': 3486153.168, 'gen_loss': 3486153.139, 'sup_loss': 7.921, 'joint_cross_loss': 1.0, 'real_cross_loss': 1.016, 'cos_loss': 0.284}, val={'g_nll': 0.497, 'g_kl': 0.063, 'g_elbo': 0.56, 'x_rna_nll': 0.303, 'x_rna_kl': 0.015, 'x_rna_elbo': 0.319, 'x_atac_nll': 0.711, 'x_atac_kl': 0.024, 'x_atac_elbo': 0.735, 'dsc_loss': 0.61, 'vae_loss': 16.517, 'gen_loss': 16.486, 'sup_loss': 7.782, 'joint_cross_loss': 1.015, 'real_cross_loss': 1.029, 'cos_loss': 0.278}, 2.1s elapsed\n",
      "[INFO] LRScheduler: Learning rate reduction: step 2\n",
      "[INFO] PairedSCGLUECLASSTrainer: [Epoch 40] train={'g_nll': 0.496, 'g_kl': 0.063, 'g_elbo': 0.559, 'x_rna_nll': 0.297, 'x_rna_kl': 0.016, 'x_rna_elbo': 0.313, 'x_atac_nll': 0.703, 'x_atac_kl': 0.025, 'x_atac_elbo': 0.728, 'dsc_loss': 0.627, 'vae_loss': 37116341.811, 'gen_loss': 37116341.782, 'sup_loss': 7.92, 'joint_cross_loss': 1.0, 'real_cross_loss': 1.016, 'cos_loss': 0.283}, val={'g_nll': 0.493, 'g_kl': 0.063, 'g_elbo': 0.556, 'x_rna_nll': 0.302, 'x_rna_kl': 0.016, 'x_rna_elbo': 0.318, 'x_atac_nll': 0.71, 'x_atac_kl': 0.024, 'x_atac_elbo': 0.734, 'dsc_loss': 0.597, 'vae_loss': 18.308, 'gen_loss': 18.278, 'sup_loss': 7.801, 'joint_cross_loss': 1.013, 'real_cross_loss': 1.026, 'cos_loss': 0.272}, 2.2s elapsed\n",
      "[INFO] LRScheduler: Learning rate reduction: step 3\n",
      "[INFO] PairedSCGLUECLASSTrainer: [Epoch 50] train={'g_nll': 0.496, 'g_kl': 0.063, 'g_elbo': 0.558, 'x_rna_nll': 0.297, 'x_rna_kl': 0.016, 'x_rna_elbo': 0.313, 'x_atac_nll': 0.702, 'x_atac_kl': 0.025, 'x_atac_elbo': 0.727, 'dsc_loss': 0.622, 'vae_loss': 4602439.961, 'gen_loss': 4602439.931, 'sup_loss': 7.907, 'joint_cross_loss': 0.999, 'real_cross_loss': 1.015, 'cos_loss': 0.282}, val={'g_nll': 0.495, 'g_kl': 0.063, 'g_elbo': 0.558, 'x_rna_nll': 0.303, 'x_rna_kl': 0.015, 'x_rna_elbo': 0.319, 'x_atac_nll': 0.71, 'x_atac_kl': 0.024, 'x_atac_elbo': 0.735, 'dsc_loss': 0.611, 'vae_loss': 28.559, 'gen_loss': 28.529, 'sup_loss': 7.791, 'joint_cross_loss': 1.014, 'real_cross_loss': 1.027, 'cos_loss': 0.277}, 2.1s elapsed\n",
      "[INFO] PairedSCGLUECLASSTrainer: [Epoch 60] train={'g_nll': 0.497, 'g_kl': 0.063, 'g_elbo': 0.56, 'x_rna_nll': 0.296, 'x_rna_kl': 0.016, 'x_rna_elbo': 0.313, 'x_atac_nll': 0.702, 'x_atac_kl': 0.025, 'x_atac_elbo': 0.727, 'dsc_loss': 0.621, 'vae_loss': 44095.037, 'gen_loss': 44095.006, 'sup_loss': 7.906, 'joint_cross_loss': 0.999, 'real_cross_loss': 1.015, 'cos_loss': 0.283}, val={'g_nll': 0.498, 'g_kl': 0.063, 'g_elbo': 0.561, 'x_rna_nll': 0.304, 'x_rna_kl': 0.016, 'x_rna_elbo': 0.32, 'x_atac_nll': 0.712, 'x_atac_kl': 0.024, 'x_atac_elbo': 0.736, 'dsc_loss': 0.606, 'vae_loss': 63.279, 'gen_loss': 63.248, 'sup_loss': 7.787, 'joint_cross_loss': 1.017, 'real_cross_loss': 1.031, 'cos_loss': 0.276}, 2.1s elapsed\n",
      "[INFO] LRScheduler: Learning rate reduction: step 4\n",
      "[INFO] PairedSCGLUECLASSTrainer: [Epoch 70] train={'g_nll': 0.495, 'g_kl': 0.063, 'g_elbo': 0.558, 'x_rna_nll': 0.297, 'x_rna_kl': 0.016, 'x_rna_elbo': 0.313, 'x_atac_nll': 0.702, 'x_atac_kl': 0.025, 'x_atac_elbo': 0.727, 'dsc_loss': 0.619, 'vae_loss': 17670802.057, 'gen_loss': 17670802.028, 'sup_loss': 7.915, 'joint_cross_loss': 0.999, 'real_cross_loss': 1.015, 'cos_loss': 0.283}, val={'g_nll': 0.503, 'g_kl': 0.063, 'g_elbo': 0.565, 'x_rna_nll': 0.304, 'x_rna_kl': 0.015, 'x_rna_elbo': 0.32, 'x_atac_nll': 0.711, 'x_atac_kl': 0.024, 'x_atac_elbo': 0.735, 'dsc_loss': 0.6, 'vae_loss': 19.167, 'gen_loss': 19.137, 'sup_loss': 7.802, 'joint_cross_loss': 1.016, 'real_cross_loss': 1.029, 'cos_loss': 0.279}, 2.2s elapsed\n",
      "[INFO] PairedSCGLUECLASSTrainer: [Epoch 80] train={'g_nll': 0.497, 'g_kl': 0.063, 'g_elbo': 0.56, 'x_rna_nll': 0.296, 'x_rna_kl': 0.016, 'x_rna_elbo': 0.313, 'x_atac_nll': 0.702, 'x_atac_kl': 0.025, 'x_atac_elbo': 0.727, 'dsc_loss': 0.622, 'vae_loss': 35558391.058, 'gen_loss': 35558391.028, 'sup_loss': 7.914, 'joint_cross_loss': 0.999, 'real_cross_loss': 1.015, 'cos_loss': 0.283}, val={'g_nll': 0.501, 'g_kl': 0.063, 'g_elbo': 0.563, 'x_rna_nll': 0.303, 'x_rna_kl': 0.016, 'x_rna_elbo': 0.319, 'x_atac_nll': 0.71, 'x_atac_kl': 0.024, 'x_atac_elbo': 0.734, 'dsc_loss': 0.607, 'vae_loss': 74.402, 'gen_loss': 74.371, 'sup_loss': 7.82, 'joint_cross_loss': 1.014, 'real_cross_loss': 1.028, 'cos_loss': 0.272}, 2.1s elapsed\n",
      "[INFO] LRScheduler: Learning rate reduction: step 5\n",
      "[INFO] PairedSCGLUECLASSTrainer: [Epoch 90] train={'g_nll': 0.496, 'g_kl': 0.063, 'g_elbo': 0.559, 'x_rna_nll': 0.296, 'x_rna_kl': 0.016, 'x_rna_elbo': 0.312, 'x_atac_nll': 0.702, 'x_atac_kl': 0.025, 'x_atac_elbo': 0.727, 'dsc_loss': 0.621, 'vae_loss': 5779660.421, 'gen_loss': 5779660.392, 'sup_loss': 7.913, 'joint_cross_loss': 0.999, 'real_cross_loss': 1.014, 'cos_loss': 0.283}, val={'g_nll': 0.501, 'g_kl': 0.063, 'g_elbo': 0.564, 'x_rna_nll': 0.304, 'x_rna_kl': 0.015, 'x_rna_elbo': 0.319, 'x_atac_nll': 0.71, 'x_atac_kl': 0.024, 'x_atac_elbo': 0.734, 'dsc_loss': 0.596, 'vae_loss': 18.03, 'gen_loss': 18.001, 'sup_loss': 7.807, 'joint_cross_loss': 1.015, 'real_cross_loss': 1.029, 'cos_loss': 0.275}, 2.2s elapsed\n",
      "[INFO] LRScheduler: Learning rate reduction: step 6\n",
      "[INFO] PairedSCGLUECLASSTrainer: [Epoch 100] train={'g_nll': 0.496, 'g_kl': 0.063, 'g_elbo': 0.559, 'x_rna_nll': 0.296, 'x_rna_kl': 0.016, 'x_rna_elbo': 0.313, 'x_atac_nll': 0.703, 'x_atac_kl': 0.025, 'x_atac_elbo': 0.727, 'dsc_loss': 0.624, 'vae_loss': 31377890.971, 'gen_loss': 31377890.942, 'sup_loss': 7.913, 'joint_cross_loss': 0.999, 'real_cross_loss': 1.015, 'cos_loss': 0.283}, val={'g_nll': 0.499, 'g_kl': 0.063, 'g_elbo': 0.562, 'x_rna_nll': 0.303, 'x_rna_kl': 0.016, 'x_rna_elbo': 0.319, 'x_atac_nll': 0.71, 'x_atac_kl': 0.024, 'x_atac_elbo': 0.734, 'dsc_loss': 0.605, 'vae_loss': 17.251, 'gen_loss': 17.221, 'sup_loss': 7.791, 'joint_cross_loss': 1.014, 'real_cross_loss': 1.028, 'cos_loss': 0.275}, 2.1s elapsed\n",
      "[INFO] PairedSCGLUECLASSTrainer: [Epoch 110] train={'g_nll': 0.497, 'g_kl': 0.063, 'g_elbo': 0.56, 'x_rna_nll': 0.297, 'x_rna_kl': 0.016, 'x_rna_elbo': 0.313, 'x_atac_nll': 0.703, 'x_atac_kl': 0.025, 'x_atac_elbo': 0.727, 'dsc_loss': 0.623, 'vae_loss': 462998.137, 'gen_loss': 462998.107, 'sup_loss': 7.913, 'joint_cross_loss': 1.0, 'real_cross_loss': 1.015, 'cos_loss': 0.283}, val={'g_nll': 0.5, 'g_kl': 0.063, 'g_elbo': 0.563, 'x_rna_nll': 0.303, 'x_rna_kl': 0.015, 'x_rna_elbo': 0.319, 'x_atac_nll': 0.711, 'x_atac_kl': 0.024, 'x_atac_elbo': 0.735, 'dsc_loss': 0.604, 'vae_loss': 21.804, 'gen_loss': 21.774, 'sup_loss': 7.804, 'joint_cross_loss': 1.015, 'real_cross_loss': 1.029, 'cos_loss': 0.278}, 2.1s elapsed\n"
     ]
    },
    {
     "name": "stderr",
     "output_type": "stream",
     "text": [
      "2024-09-13 18:57:15,429 ignite.handlers.early_stopping.EarlyStopping INFO: EarlyStopping: Stop training\n"
     ]
    },
    {
     "name": "stdout",
     "output_type": "stream",
     "text": [
      "[INFO] EarlyStopping: Restoring checkpoint \"88\"...\n",
      "[INFO] fit_SCGLUE: Estimating balancing weight...\n",
      "[INFO] estimate_balancing_weight: Clustering cells...\n"
     ]
    },
    {
     "name": "stderr",
     "output_type": "stream",
     "text": [
      "2024-09-13 18:57:20.873746: I tensorflow/core/util/port.cc:113] oneDNN custom operations are on. You may see slightly different numerical results due to floating-point round-off errors from different computation orders. To turn them off, set the environment variable `TF_ENABLE_ONEDNN_OPTS=0`.\n",
      "2024-09-13 18:57:22.753486: E external/local_xla/xla/stream_executor/cuda/cuda_dnn.cc:9261] Unable to register cuDNN factory: Attempting to register factory for plugin cuDNN when one has already been registered\n",
      "2024-09-13 18:57:22.753543: E external/local_xla/xla/stream_executor/cuda/cuda_fft.cc:607] Unable to register cuFFT factory: Attempting to register factory for plugin cuFFT when one has already been registered\n",
      "2024-09-13 18:57:22.875427: E external/local_xla/xla/stream_executor/cuda/cuda_blas.cc:1515] Unable to register cuBLAS factory: Attempting to register factory for plugin cuBLAS when one has already been registered\n",
      "2024-09-13 18:57:23.058228: I tensorflow/core/platform/cpu_feature_guard.cc:182] This TensorFlow binary is optimized to use available CPU instructions in performance-critical operations.\n",
      "To enable the following instructions: AVX2 AVX512F AVX512_VNNI FMA, in other operations, rebuild TensorFlow with the appropriate compiler flags.\n",
      "2024-09-13 18:57:34.431823: W tensorflow/compiler/tf2tensorrt/utils/py_utils.cc:38] TF-TRT Warning: Could not find TensorRT\n"
     ]
    },
    {
     "name": "stdout",
     "output_type": "stream",
     "text": [
      "[INFO] estimate_balancing_weight: Matching clusters...\n",
      "[INFO] estimate_balancing_weight: Matching array shape = (23, 25)...\n",
      "[INFO] estimate_balancing_weight: Estimating balancing weight...\n",
      "[INFO] fit_SCGLUE: Fine-tuning SCGLUE model...\n"
     ]
    },
    {
     "name": "stderr",
     "output_type": "stream",
     "text": [
      "[WARNING] PairedSCGLUECLASSModel: Missing: u2c.weight\n",
      "[WARNING] PairedSCGLUECLASSModel: Missing: u2c.bias\n"
     ]
    },
    {
     "name": "stdout",
     "output_type": "stream",
     "text": [
      "[INFO] check_graph: Checking variable coverage...\n",
      "[INFO] check_graph: Checking edge attributes...\n",
      "[INFO] check_graph: Checking self-loops...\n",
      "[INFO] check_graph: Checking graph symmetry...\n",
      "[INFO] PairedSCGLUECLASSModel: Setting `graph_batch_size` = 1752\n",
      "[INFO] PairedSCGLUECLASSModel: Setting `align_burnin` = 60\n",
      "[INFO] PairedSCGLUECLASSModel: Setting `max_epochs` = 355\n",
      "[INFO] PairedSCGLUECLASSModel: Setting `patience` = 30\n",
      "[INFO] PairedSCGLUECLASSModel: Setting `reduce_lr_patience` = 15\n",
      "[INFO] PairedSCGLUECLASSTrainer: Using training directory: \"glue_output/fine-tune\"\n"
     ]
    },
    {
     "name": "stderr",
     "output_type": "stream",
     "text": [
      "/gpfs/gibbs/project/zhao/tl688/conda_envs/scglue/lib/python3.9/site-packages/torch/optim/lr_scheduler.py:28: UserWarning: The verbose parameter is deprecated. Please use get_last_lr() to access the learning rate.\n",
      "  warnings.warn(\"The verbose parameter is deprecated. Please use get_last_lr() \"\n"
     ]
    },
    {
     "name": "stdout",
     "output_type": "stream",
     "text": [
      "[INFO] PairedSCGLUECLASSTrainer: [Epoch 10] train={'g_nll': 0.481, 'g_kl': 0.062, 'g_elbo': 0.543, 'x_rna_nll': 0.296, 'x_rna_kl': 0.016, 'x_rna_elbo': 0.313, 'x_atac_nll': 0.701, 'x_atac_kl': 0.024, 'x_atac_elbo': 0.725, 'dsc_loss': 0.62, 'vae_loss': 33173553.663, 'gen_loss': 33173553.632, 'sup_loss': 7.82, 'joint_cross_loss': 0.997, 'real_cross_loss': 1.012, 'cos_loss': 0.328}, val={'g_nll': 0.48, 'g_kl': 0.062, 'g_elbo': 0.541, 'x_rna_nll': 0.302, 'x_rna_kl': 0.015, 'x_rna_elbo': 0.317, 'x_atac_nll': 0.716, 'x_atac_kl': 0.023, 'x_atac_elbo': 0.738, 'dsc_loss': 0.642, 'vae_loss': 20.625, 'gen_loss': 20.593, 'sup_loss': 7.71, 'joint_cross_loss': 1.019, 'real_cross_loss': 1.033, 'cos_loss': 0.324}, 2.2s elapsed\n",
      "[INFO] PairedSCGLUECLASSTrainer: [Epoch 20] train={'g_nll': 0.473, 'g_kl': 0.061, 'g_elbo': 0.534, 'x_rna_nll': 0.295, 'x_rna_kl': 0.016, 'x_rna_elbo': 0.311, 'x_atac_nll': 0.7, 'x_atac_kl': 0.023, 'x_atac_elbo': 0.724, 'dsc_loss': 0.627, 'vae_loss': 895406.382, 'gen_loss': 895406.351, 'sup_loss': 7.799, 'joint_cross_loss': 0.995, 'real_cross_loss': 1.009, 'cos_loss': 0.326}, val={'g_nll': 0.477, 'g_kl': 0.061, 'g_elbo': 0.538, 'x_rna_nll': 0.301, 'x_rna_kl': 0.016, 'x_rna_elbo': 0.316, 'x_atac_nll': 0.714, 'x_atac_kl': 0.022, 'x_atac_elbo': 0.735, 'dsc_loss': 0.612, 'vae_loss': 23.564, 'gen_loss': 23.534, 'sup_loss': 7.664, 'joint_cross_loss': 1.015, 'real_cross_loss': 1.03, 'cos_loss': 0.327}, 2.2s elapsed\n",
      "[INFO] PairedSCGLUECLASSTrainer: [Epoch 30] train={'g_nll': 0.469, 'g_kl': 0.061, 'g_elbo': 0.53, 'x_rna_nll': 0.294, 'x_rna_kl': 0.016, 'x_rna_elbo': 0.31, 'x_atac_nll': 0.699, 'x_atac_kl': 0.023, 'x_atac_elbo': 0.722, 'dsc_loss': 0.633, 'vae_loss': 1130828.638, 'gen_loss': 1130828.609, 'sup_loss': 7.804, 'joint_cross_loss': 0.993, 'real_cross_loss': 1.007, 'cos_loss': 0.319}, val={'g_nll': 0.467, 'g_kl': 0.061, 'g_elbo': 0.528, 'x_rna_nll': 0.302, 'x_rna_kl': 0.016, 'x_rna_elbo': 0.317, 'x_atac_nll': 0.714, 'x_atac_kl': 0.022, 'x_atac_elbo': 0.737, 'dsc_loss': 0.627, 'vae_loss': 37.718, 'gen_loss': 37.687, 'sup_loss': 7.636, 'joint_cross_loss': 1.016, 'real_cross_loss': 1.03, 'cos_loss': 0.324}, 2.1s elapsed\n",
      "[INFO] PairedSCGLUECLASSTrainer: [Epoch 40] train={'g_nll': 0.463, 'g_kl': 0.06, 'g_elbo': 0.524, 'x_rna_nll': 0.293, 'x_rna_kl': 0.016, 'x_rna_elbo': 0.309, 'x_atac_nll': 0.699, 'x_atac_kl': 0.023, 'x_atac_elbo': 0.722, 'dsc_loss': 0.636, 'vae_loss': 15808867.9, 'gen_loss': 15808867.87, 'sup_loss': 7.802, 'joint_cross_loss': 0.992, 'real_cross_loss': 1.006, 'cos_loss': 0.317}, val={'g_nll': 0.468, 'g_kl': 0.06, 'g_elbo': 0.528, 'x_rna_nll': 0.301, 'x_rna_kl': 0.016, 'x_rna_elbo': 0.316, 'x_atac_nll': 0.715, 'x_atac_kl': 0.021, 'x_atac_elbo': 0.737, 'dsc_loss': 0.617, 'vae_loss': 18.704, 'gen_loss': 18.673, 'sup_loss': 7.665, 'joint_cross_loss': 1.016, 'real_cross_loss': 1.03, 'cos_loss': 0.322}, 2.1s elapsed\n",
      "[INFO] PairedSCGLUECLASSTrainer: [Epoch 50] train={'g_nll': 0.46, 'g_kl': 0.06, 'g_elbo': 0.52, 'x_rna_nll': 0.293, 'x_rna_kl': 0.016, 'x_rna_elbo': 0.309, 'x_atac_nll': 0.699, 'x_atac_kl': 0.023, 'x_atac_elbo': 0.722, 'dsc_loss': 0.637, 'vae_loss': 18841642.423, 'gen_loss': 18841642.393, 'sup_loss': 7.807, 'joint_cross_loss': 0.992, 'real_cross_loss': 1.006, 'cos_loss': 0.317}, val={'g_nll': 0.453, 'g_kl': 0.06, 'g_elbo': 0.513, 'x_rna_nll': 0.3, 'x_rna_kl': 0.015, 'x_rna_elbo': 0.315, 'x_atac_nll': 0.714, 'x_atac_kl': 0.022, 'x_atac_elbo': 0.736, 'dsc_loss': 0.628, 'vae_loss': 63.532, 'gen_loss': 63.5, 'sup_loss': 7.677, 'joint_cross_loss': 1.014, 'real_cross_loss': 1.027, 'cos_loss': 0.317}, 2.1s elapsed\n",
      "[INFO] PairedSCGLUECLASSTrainer: [Epoch 60] train={'g_nll': 0.456, 'g_kl': 0.059, 'g_elbo': 0.514, 'x_rna_nll': 0.293, 'x_rna_kl': 0.016, 'x_rna_elbo': 0.309, 'x_atac_nll': 0.699, 'x_atac_kl': 0.023, 'x_atac_elbo': 0.722, 'dsc_loss': 0.633, 'vae_loss': 1829843.303, 'gen_loss': 1829843.273, 'sup_loss': 7.779, 'joint_cross_loss': 0.992, 'real_cross_loss': 1.006, 'cos_loss': 0.313}, val={'g_nll': 0.456, 'g_kl': 0.059, 'g_elbo': 0.514, 'x_rna_nll': 0.3, 'x_rna_kl': 0.016, 'x_rna_elbo': 0.316, 'x_atac_nll': 0.714, 'x_atac_kl': 0.021, 'x_atac_elbo': 0.735, 'dsc_loss': 0.623, 'vae_loss': 173.099, 'gen_loss': 173.068, 'sup_loss': 7.681, 'joint_cross_loss': 1.015, 'real_cross_loss': 1.029, 'cos_loss': 0.32}, 2.1s elapsed\n",
      "[INFO] PairedSCGLUECLASSTrainer: [Epoch 70] train={'g_nll': 0.453, 'g_kl': 0.058, 'g_elbo': 0.511, 'x_rna_nll': 0.292, 'x_rna_kl': 0.016, 'x_rna_elbo': 0.308, 'x_atac_nll': 0.699, 'x_atac_kl': 0.023, 'x_atac_elbo': 0.722, 'dsc_loss': 0.637, 'vae_loss': 219531064.828, 'gen_loss': 219531064.798, 'sup_loss': 7.774, 'joint_cross_loss': 0.991, 'real_cross_loss': 1.005, 'cos_loss': 0.312}, val={'g_nll': 0.452, 'g_kl': 0.058, 'g_elbo': 0.51, 'x_rna_nll': 0.3, 'x_rna_kl': 0.016, 'x_rna_elbo': 0.315, 'x_atac_nll': 0.714, 'x_atac_kl': 0.021, 'x_atac_elbo': 0.735, 'dsc_loss': 0.651, 'vae_loss': 16.592, 'gen_loss': 16.56, 'sup_loss': 7.711, 'joint_cross_loss': 1.014, 'real_cross_loss': 1.028, 'cos_loss': 0.319}, 2.2s elapsed\n",
      "[INFO] LRScheduler: Learning rate reduction: step 1\n",
      "[INFO] PairedSCGLUECLASSTrainer: [Epoch 80] train={'g_nll': 0.447, 'g_kl': 0.057, 'g_elbo': 0.505, 'x_rna_nll': 0.291, 'x_rna_kl': 0.016, 'x_rna_elbo': 0.308, 'x_atac_nll': 0.699, 'x_atac_kl': 0.023, 'x_atac_elbo': 0.722, 'dsc_loss': 0.651, 'vae_loss': 1478500.617, 'gen_loss': 1478500.586, 'sup_loss': 7.748, 'joint_cross_loss': 0.99, 'real_cross_loss': 1.005, 'cos_loss': 0.309}, val={'g_nll': 0.446, 'g_kl': 0.057, 'g_elbo': 0.503, 'x_rna_nll': 0.298, 'x_rna_kl': 0.015, 'x_rna_elbo': 0.314, 'x_atac_nll': 0.712, 'x_atac_kl': 0.022, 'x_atac_elbo': 0.733, 'dsc_loss': 0.632, 'vae_loss': 25.54, 'gen_loss': 25.508, 'sup_loss': 7.697, 'joint_cross_loss': 1.01, 'real_cross_loss': 1.024, 'cos_loss': 0.312}, 2.1s elapsed\n",
      "[INFO] PairedSCGLUECLASSTrainer: [Epoch 90] train={'g_nll': 0.448, 'g_kl': 0.057, 'g_elbo': 0.505, 'x_rna_nll': 0.291, 'x_rna_kl': 0.016, 'x_rna_elbo': 0.307, 'x_atac_nll': 0.698, 'x_atac_kl': 0.023, 'x_atac_elbo': 0.721, 'dsc_loss': 0.651, 'vae_loss': 126396.935, 'gen_loss': 126396.904, 'sup_loss': 7.737, 'joint_cross_loss': 0.989, 'real_cross_loss': 1.004, 'cos_loss': 0.309}, val={'g_nll': 0.447, 'g_kl': 0.057, 'g_elbo': 0.504, 'x_rna_nll': 0.297, 'x_rna_kl': 0.016, 'x_rna_elbo': 0.313, 'x_atac_nll': 0.712, 'x_atac_kl': 0.021, 'x_atac_elbo': 0.734, 'dsc_loss': 0.633, 'vae_loss': 17.847, 'gen_loss': 17.815, 'sup_loss': 7.663, 'joint_cross_loss': 1.01, 'real_cross_loss': 1.024, 'cos_loss': 0.313}, 2.1s elapsed\n",
      "[INFO] LRScheduler: Learning rate reduction: step 2\n",
      "[INFO] PairedSCGLUECLASSTrainer: [Epoch 100] train={'g_nll': 0.447, 'g_kl': 0.057, 'g_elbo': 0.504, 'x_rna_nll': 0.291, 'x_rna_kl': 0.016, 'x_rna_elbo': 0.307, 'x_atac_nll': 0.698, 'x_atac_kl': 0.023, 'x_atac_elbo': 0.721, 'dsc_loss': 0.651, 'vae_loss': 24308.253, 'gen_loss': 24308.22, 'sup_loss': 7.732, 'joint_cross_loss': 0.989, 'real_cross_loss': 1.003, 'cos_loss': 0.311}, val={'g_nll': 0.45, 'g_kl': 0.057, 'g_elbo': 0.507, 'x_rna_nll': 0.298, 'x_rna_kl': 0.016, 'x_rna_elbo': 0.313, 'x_atac_nll': 0.713, 'x_atac_kl': 0.022, 'x_atac_elbo': 0.735, 'dsc_loss': 0.627, 'vae_loss': 24.641, 'gen_loss': 24.61, 'sup_loss': 7.655, 'joint_cross_loss': 1.011, 'real_cross_loss': 1.026, 'cos_loss': 0.316}, 2.1s elapsed\n",
      "[INFO] PairedSCGLUECLASSTrainer: [Epoch 110] train={'g_nll': 0.446, 'g_kl': 0.057, 'g_elbo': 0.503, 'x_rna_nll': 0.291, 'x_rna_kl': 0.016, 'x_rna_elbo': 0.307, 'x_atac_nll': 0.698, 'x_atac_kl': 0.023, 'x_atac_elbo': 0.721, 'dsc_loss': 0.648, 'vae_loss': 559401.097, 'gen_loss': 559401.066, 'sup_loss': 7.74, 'joint_cross_loss': 0.989, 'real_cross_loss': 1.004, 'cos_loss': 0.309}, val={'g_nll': 0.45, 'g_kl': 0.057, 'g_elbo': 0.508, 'x_rna_nll': 0.298, 'x_rna_kl': 0.016, 'x_rna_elbo': 0.313, 'x_atac_nll': 0.713, 'x_atac_kl': 0.021, 'x_atac_elbo': 0.734, 'dsc_loss': 0.623, 'vae_loss': 40.818, 'gen_loss': 40.787, 'sup_loss': 7.645, 'joint_cross_loss': 1.011, 'real_cross_loss': 1.026, 'cos_loss': 0.314}, 2.1s elapsed\n",
      "[INFO] LRScheduler: Learning rate reduction: step 3\n",
      "[INFO] PairedSCGLUECLASSTrainer: [Epoch 120] train={'g_nll': 0.449, 'g_kl': 0.057, 'g_elbo': 0.506, 'x_rna_nll': 0.291, 'x_rna_kl': 0.016, 'x_rna_elbo': 0.307, 'x_atac_nll': 0.698, 'x_atac_kl': 0.023, 'x_atac_elbo': 0.721, 'dsc_loss': 0.646, 'vae_loss': 1394534355.052, 'gen_loss': 1394534355.021, 'sup_loss': 7.73, 'joint_cross_loss': 0.989, 'real_cross_loss': 1.003, 'cos_loss': 0.309}, val={'g_nll': 0.453, 'g_kl': 0.057, 'g_elbo': 0.51, 'x_rna_nll': 0.298, 'x_rna_kl': 0.016, 'x_rna_elbo': 0.314, 'x_atac_nll': 0.714, 'x_atac_kl': 0.022, 'x_atac_elbo': 0.736, 'dsc_loss': 0.632, 'vae_loss': 21.009, 'gen_loss': 20.977, 'sup_loss': 7.641, 'joint_cross_loss': 1.013, 'real_cross_loss': 1.027, 'cos_loss': 0.312}, 2.1s elapsed\n"
     ]
    },
    {
     "name": "stderr",
     "output_type": "stream",
     "text": [
      "2024-09-13 19:02:51,804 ignite.handlers.early_stopping.EarlyStopping INFO: EarlyStopping: Stop training\n"
     ]
    },
    {
     "name": "stdout",
     "output_type": "stream",
     "text": [
      "[INFO] EarlyStopping: Restoring checkpoint \"119\"...\n"
     ]
    }
   ],
   "source": [
    "glue = superglue.models.fit_SCGLUE(\n",
    "    {\"rna\": rna, \"atac\": atac}, guidance_hvf,compile_kws={\"fusion_weight\":100},\n",
    "    model= superglue.models.PairedSCGLUECLASSModel, # update superglue model\n",
    "    fit_kws={\"directory\": f\"glue_output\"}\n",
    ")\n",
    "glue.save(f\"superglue_10xmulti_default.dill\")"
   ]
  },
  {
   "cell_type": "code",
   "execution_count": 34,
   "id": "e1d46271-9837-48e6-983a-d5794681afba",
   "metadata": {},
   "outputs": [],
   "source": [
    "rna.obsm[\"X_glue\"] = glue.encode_data(\"rna\", rna)\n",
    "atac.obsm[\"X_glue\"] = glue.encode_data(\"atac\", atac)"
   ]
  },
  {
   "cell_type": "code",
   "execution_count": 35,
   "id": "fa088f62-c2c2-4523-9a03-e0d78eb49098",
   "metadata": {},
   "outputs": [],
   "source": [
    "rna.obsm['X_comb'] = np.concatenate([rna.obsm[\"X_glue\"], atac.obsm[\"X_glue\"]], axis=1)"
   ]
  },
  {
   "cell_type": "code",
   "execution_count": 36,
   "id": "fd669172-c9d6-4fd6-a54e-a757168e9437",
   "metadata": {},
   "outputs": [
    {
     "name": "stdout",
     "output_type": "stream",
     "text": [
      "[[ 0.17065601 -0.07250503  0.9301326  ...  0.24268246 -0.01719975\n",
      "   1.1213113 ]\n",
      " [ 0.28598458  0.73711824 -0.4821317  ...  0.8386405  -1.1019468\n",
      "   0.3519691 ]\n",
      " [ 2.1849685   1.3742522   1.1973269  ...  0.45916724  0.08908296\n",
      "   0.161226  ]\n",
      " ...\n",
      " [-0.8934647   0.35142356 -0.15005752 ... -1.0274321   0.5933036\n",
      "   0.62865365]\n",
      " [ 0.06740315 -0.56614685  0.41402212 ...  0.11126826  0.06060368\n",
      "   1.1678997 ]\n",
      " [ 1.5130776   0.34857896  0.21703523 ...  0.8823813  -0.67301935\n",
      "   1.2332847 ]]\n"
     ]
    }
   ],
   "source": [
    "print(rna.obsm['X_comb'])"
   ]
  },
  {
   "cell_type": "code",
   "execution_count": 37,
   "id": "89ea933a-3d97-4b02-8f60-6fbd7e8aa190",
   "metadata": {},
   "outputs": [],
   "source": [
    "sc.pp.neighbors(rna, use_rep=\"X_comb\", metric=\"cosine\")\n",
    "sc.tl.umap(rna)"
   ]
  },
  {
   "cell_type": "code",
   "execution_count": 38,
   "id": "3c28c4ef-255b-4c3d-935f-97e66a12dcba",
   "metadata": {},
   "outputs": [
    {
     "name": "stderr",
     "output_type": "stream",
     "text": [
      "/gpfs/gibbs/project/zhao/tl688/conda_envs/scglue/lib/python3.9/site-packages/scanpy/plotting/_tools/scatterplots.py:394: UserWarning: No data for colormapping provided via 'c'. Parameters 'cmap' will be ignored\n",
      "  cax = scatter(\n"
     ]
    },
    {
     "data": {
      "image/png": "[encoded data removed]",
      "text/plain": [
       "<Figure size 320x320 with 1 Axes>"
      ]
     },
     "metadata": {
      "image/png": {
       "height": 297,
       "width": 537
      }
     },
     "output_type": "display_data"
    }
   ],
   "source": [
    "sc.pl.umap(rna, color=[\"cell_type\"])"
   ]
  },
  {
   "cell_type": "code",
   "execution_count": null,
   "id": "3a545ce7-f46c-45b4-9588-39493a119bc7",
   "metadata": {},
   "outputs": [],
   "source": []
  }
 ],
 "metadata": {
  "kernelspec": {
   "display_name": "Python 3 (ipykernel)",
   "language": "python",
   "name": "python3"
  },
  "language_info": {
   "codemirror_mode": {
    "name": "ipython",
    "version": 3
   },
   "file_extension": ".py",
   "mimetype": "text/x-python",
   "name": "python",
   "nbconvert_exporter": "python",
   "pygments_lexer": "ipython3",
   "version": "3.9.18"
  },
  "widgets": {
   "application/vnd.jupyter.widget-state+json": {
    "state": {
     "11fd8fdd55394b9184eca68fe4de8380": {
      "model_module": "@jupyter-widgets/controls",
      "model_module_version": "2.0.0",
      "model_name": "HTMLModel",
      "state": {
       "layout": "IPY_MODEL_f9f1033dd83047caa68ebb5b2e517863",
       "style": "IPY_MODEL_d7ce3ae410e54edc9c8de8a443f9c945",
       "value": " 2000/2000 [00:00&lt;00:00, 3675.84it/s]"
      }
     },
     "14d3fb0b840145918504983896daecad": {
      "model_module": "@jupyter-widgets/controls",
      "model_module_version": "2.0.0",
      "model_name": "HTMLModel",
      "state": {
       "layout": "IPY_MODEL_59adec0b885343fdac186e9a39be97a7",
       "style": "IPY_MODEL_e84ad23af2c14d76a7b66fd9840cdee8",
       "value": "window_graph: 100%"
      }
     },
     "1793ec06b8114993bde2854328346982": {
      "model_module": "@jupyter-widgets/controls",
      "model_module_version": "2.0.0",
      "model_name": "ProgressStyleModel",
      "state": {
       "description_width": ""
      }
     },
     "59adec0b885343fdac186e9a39be97a7": {
      "model_module": "@jupyter-widgets/base",
      "model_module_version": "2.0.0",
      "model_name": "LayoutModel",
      "state": {}
     },
     "8751dd41fd3c40bead5eb05b78d67352": {
      "model_module": "@jupyter-widgets/base",
      "model_module_version": "2.0.0",
      "model_name": "LayoutModel",
      "state": {}
     },
     "b3d21962c651489381a1e12f94bc710b": {
      "model_module": "@jupyter-widgets/controls",
      "model_module_version": "2.0.0",
      "model_name": "FloatProgressModel",
      "state": {
       "bar_style": "success",
       "layout": "IPY_MODEL_c887f38cf7f84cd197d4224e118e3664",
       "max": 2000,
       "style": "IPY_MODEL_1793ec06b8114993bde2854328346982",
       "value": 2000
      }
     },
     "c887f38cf7f84cd197d4224e118e3664": {
      "model_module": "@jupyter-widgets/base",
      "model_module_version": "2.0.0",
      "model_name": "LayoutModel",
      "state": {}
     },
     "d7ce3ae410e54edc9c8de8a443f9c945": {
      "model_module": "@jupyter-widgets/controls",
      "model_module_version": "2.0.0",
      "model_name": "HTMLStyleModel",
      "state": {
       "description_width": "",
       "font_size": null,
       "text_color": null
      }
     },
     "e84ad23af2c14d76a7b66fd9840cdee8": {
      "model_module": "@jupyter-widgets/controls",
      "model_module_version": "2.0.0",
      "model_name": "HTMLStyleModel",
      "state": {
       "description_width": "",
       "font_size": null,
       "text_color": null
      }
     },
     "f63677db57e34cb6bf2fa371a9353f8e": {
      "model_module": "@jupyter-widgets/controls",
      "model_module_version": "2.0.0",
      "model_name": "HBoxModel",
      "state": {
       "children": [
        "IPY_MODEL_14d3fb0b840145918504983896daecad",
        "IPY_MODEL_b3d21962c651489381a1e12f94bc710b",
        "IPY_MODEL_11fd8fdd55394b9184eca68fe4de8380"
       ],
       "layout": "IPY_MODEL_8751dd41fd3c40bead5eb05b78d67352"
      }
     },
     "f9f1033dd83047caa68ebb5b2e517863": {
      "model_module": "@jupyter-widgets/base",
      "model_module_version": "2.0.0",
      "model_name": "LayoutModel",
      "state": {}
     }
    },
    "version_major": 2,
    "version_minor": 0
   }
  }
 },
 "nbformat": 4,
 "nbformat_minor": 5
}
